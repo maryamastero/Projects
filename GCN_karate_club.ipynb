{
 "cells": [
  {
   "cell_type": "code",
   "execution_count": 1,
   "metadata": {},
   "outputs": [],
   "source": [
    "import networkx as nx   \n",
    "import numpy as np\n",
    "import torch\n",
    "from sklearn.preprocessing import StandardScaler"
   ]
  },
  {
   "cell_type": "code",
   "execution_count": 2,
   "metadata": {},
   "outputs": [],
   "source": [
    "G = nx.karate_club_graph()\n",
    "labels = np.asarray([G.nodes[i]['club']!='Mr.Hi' for i in G.nodes]).astype(np.int64)"
   ]
  },
  {
   "cell_type": "code",
   "execution_count": 3,
   "metadata": {},
   "outputs": [
    {
     "name": "stderr",
     "output_type": "stream",
     "text": [
      "/var/folders/54/0ppv1xbn2h99kqvlhvh3sd3r0000gn/T/ipykernel_1678/3187827270.py:1: DeprecationWarning: \n",
      "\n",
      "The scipy.sparse array containers will be used instead of matrices\n",
      "in Networkx 3.0. Use `to_scipy_sparse_array` instead.\n",
      "  adj = nx.to_scipy_sparse_matrix(G).tocoo()\n"
     ]
    }
   ],
   "source": [
    "adj = nx.to_scipy_sparse_matrix(G).tocoo()\n",
    "row = torch.from_numpy(adj.row.astype(np.int64)).to(torch.long)\n",
    "col = torch.from_numpy(adj.col.astype(np.int64)).to(torch.long)\n",
    "edge_index = torch.stack([row,col], dim = 0)\n"
   ]
  },
  {
   "cell_type": "code",
   "execution_count": 4,
   "metadata": {},
   "outputs": [],
   "source": [
    "embeddings = np.array(list(dict(G.degree()).values()))\n",
    "scale = StandardScaler()\n",
    "embeddings = scale.fit_transform(embeddings.reshape(-1,1))"
   ]
  },
  {
   "cell_type": "code",
   "execution_count": 5,
   "metadata": {},
   "outputs": [],
   "source": [
    "import torch\n",
    "import pandas as pd\n",
    "from torch_geometric.data import InMemoryDataset, Data\n",
    "from sklearn.model_selection import train_test_split\n",
    "import torch_geometric.transforms as T"
   ]
  },
  {
   "cell_type": "code",
   "execution_count": 18,
   "metadata": {},
   "outputs": [],
   "source": [
    "class KarateDataset(InMemoryDataset):\n",
    "    def __init__(self, transform= None):\n",
    "        super(KarateDataset,self).__init__('.',transform,None,None)\n",
    "        data = Data(edge_index= edge_index)\n",
    "        data.num_nodes = G.number_of_nodes()\n",
    "        data.x = torch.from_numpy(embeddings).type(torch.float32)\n",
    "        y = torch.from_numpy(labels).type(torch.long)\n",
    "        data.y = y.clone().detach()\n",
    "        data.num_class = 2\n",
    "\n",
    "        X_train,X_test, y_train, y_test = train_test_split(pd.Series(list(G.nodes())),\n",
    "                                                           pd.Series(labels),\n",
    "                                                           test_size = 0.30,\n",
    "                                                           random_state=42)\n",
    "        n_nodes = G.number_of_nodes()\n",
    "        train_mask = torch.zeros(n_nodes,dtype=torch.bool)\n",
    "        test_mask = torch.zeros(n_nodes,dtype=torch.bool)\n",
    "        train_mask[X_train.index]=True\n",
    "        test_mask[X_test.index] = True\n",
    "        data['train_mask'] = train_mask\n",
    "        data['test_mask'] = test_mask\n",
    "\n",
    "        self.data , self.slices = self.collate([data])\n",
    "    def _download(self):\n",
    "        return\n",
    "\n",
    "    def _process(self):\n",
    "        return\n",
    "\n",
    "    def __repr__(self):\n",
    "        return '{}()'.format(self.__class__.__name__)\n",
    "    \n",
    "\n",
    "\n",
    "\n"
   ]
  },
  {
   "cell_type": "code",
   "execution_count": 19,
   "metadata": {},
   "outputs": [
    {
     "data": {
      "text/plain": [
       "Data(edge_index=[2, 156], num_nodes=34, x=[34, 1], y=[34], num_class=2, train_mask=[34], test_mask=[34])"
      ]
     },
     "execution_count": 19,
     "metadata": {},
     "output_type": "execute_result"
    }
   ],
   "source": [
    "dataset = KarateDataset()\n",
    "data = dataset[0]\n",
    "data"
   ]
  },
  {
   "cell_type": "code",
   "execution_count": 20,
   "metadata": {},
   "outputs": [],
   "source": [
    "import torch.nn as nn\n",
    "import torch.nn.functional as F\n",
    "from torch_geometric.nn import GCNConv"
   ]
  },
  {
   "cell_type": "code",
   "execution_count": 21,
   "metadata": {},
   "outputs": [],
   "source": [
    "class Net(torch.nn.Module):\n",
    "    def __init__(self):\n",
    "        super(Net, self).__init__()\n",
    "        self.conv1 = GCNConv(data.num_features,16)\n",
    "        self.conv2 = GCNConv(16,int(data.num_class))\n",
    "    def forward(self):\n",
    "        x = data.x\n",
    "        edge_index = data.edge_index\n",
    "        x = F.relu(self.conv1(x,edge_index))\n",
    "        x = F.dropout(x, training= self.training)\n",
    "        x = self.conv2(x,edge_index)\n",
    "        return F.log_softmax(x, dim = 1)\n",
    "\n",
    "    "
   ]
  },
  {
   "cell_type": "code",
   "execution_count": 22,
   "metadata": {},
   "outputs": [],
   "source": [
    "model = Net()"
   ]
  },
  {
   "cell_type": "code",
   "execution_count": 27,
   "metadata": {},
   "outputs": [],
   "source": [
    "torch.manual_seed(42)\n",
    "optimizer_name = 'Adam'\n",
    "lr = 1\n",
    "optimizer = getattr(torch.optim, optimizer_name)(model.parameters(), lr = lr)\n",
    "epochs = 20\n",
    "\n",
    "def train():\n",
    "    model.train()\n",
    "    optimizer.zero_grad()\n",
    "    predicts  = model()[data.train_mask]\n",
    "    labels = data.y[data.train_mask]\n",
    "    loss = F.nll_loss(predicts, labels)\n",
    "    loss.backward()\n",
    "    optimizer.step()\n",
    "\n",
    "@torch.no_grad()\n",
    "def test():\n",
    "    model.eval()\n",
    "    logits = model()\n",
    "    mask1 = data['train_mask']\n",
    "    pred1 = logits[mask1].max(1)[1]\n",
    "    acc1 = pred1.eq(data.y[mask1]).sum().item()/mask1.sum().item()\n",
    "    mask = data['test_mask']\n",
    "    pred = logits[mask].max(1)[1]\n",
    "    acc = pred.eq(data.y[mask]).sum().item()/mask.sum().item()\n",
    "    return acc1, acc\n"
   ]
  },
  {
   "cell_type": "code",
   "execution_count": 28,
   "metadata": {},
   "outputs": [],
   "source": [
    "for epoch in range(1,epochs):\n",
    "    train()\n",
    "    "
   ]
  },
  {
   "cell_type": "code",
   "execution_count": 29,
   "metadata": {},
   "outputs": [
    {
     "name": "stdout",
     "output_type": "stream",
     "text": [
      "Train accuracy: 1.00\n",
      "Test accuracy: 1.00\n"
     ]
    }
   ],
   "source": [
    "train_acc, test_acc = test()\n",
    "print(f'Train accuracy: {train_acc :.2f}')\n",
    "print(f'Test accuracy: {test_acc :.2f}')\n"
   ]
  },
  {
   "cell_type": "code",
   "execution_count": null,
   "metadata": {},
   "outputs": [],
   "source": []
  }
 ],
 "metadata": {
  "kernelspec": {
   "display_name": "Python 3.8.13 ('pytorch_x86')",
   "language": "python",
   "name": "python3"
  },
  "language_info": {
   "codemirror_mode": {
    "name": "ipython",
    "version": 3
   },
   "file_extension": ".py",
   "mimetype": "text/x-python",
   "name": "python",
   "nbconvert_exporter": "python",
   "pygments_lexer": "ipython3",
   "version": "3.8.13"
  },
  "orig_nbformat": 4,
  "vscode": {
   "interpreter": {
    "hash": "e0725846df5162b39828c4ff419b6f42d14dd6ce93ef944e2bdd9cad40693965"
   }
  }
 },
 "nbformat": 4,
 "nbformat_minor": 2
}
