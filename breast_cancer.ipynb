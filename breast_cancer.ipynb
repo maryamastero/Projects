{
 "cells": [
  {
   "cell_type": "code",
   "execution_count": 61,
   "metadata": {},
   "outputs": [],
   "source": [
    "import torch\n",
    "import numpy as np\n",
    "import matplotlib.pyplot as plt\n",
    "\n",
    "from sklearn.datasets import load_breast_cancer\n",
    "\n",
    "data = load_breast_cancer()\n",
    "\n",
    "x = data['data']\n",
    "y = data['target']\n"
   ]
  },
  {
   "cell_type": "code",
   "execution_count": 62,
   "metadata": {},
   "outputs": [
    {
     "name": "stdout",
     "output_type": "stream",
     "text": [
      "(569, 30) (569,)\n"
     ]
    }
   ],
   "source": [
    "print(x.shape, y.shape)"
   ]
  },
  {
   "cell_type": "code",
   "execution_count": 63,
   "metadata": {},
   "outputs": [],
   "source": [
    "from sklearn.preprocessing import StandardScaler\n",
    "\n",
    "sc = StandardScaler()\n",
    "\n",
    "x = sc.fit_transform(x)"
   ]
  },
  {
   "cell_type": "code",
   "execution_count": 64,
   "metadata": {},
   "outputs": [],
   "source": [
    "from torch.utils.data import Dataset, DataLoader\n",
    "\n",
    "class dataset(Dataset):\n",
    "    def __init__(self, x, y):\n",
    "        self.x = torch.tensor(x, dtype=torch.float32)\n",
    "        self.y = torch.tensor(y, dtype=torch.float32)\n",
    "        self.lenght = self.x.shape[0]\n",
    "\n",
    "    def __getitem__(self, idx):\n",
    "        return self.x[idx], self.y[idx]\n",
    "    \n",
    "    def __len__(self):\n",
    "        return self.lenght\n",
    "    \n"
   ]
  },
  {
   "cell_type": "code",
   "execution_count": 65,
   "metadata": {},
   "outputs": [],
   "source": [
    "trainset = dataset(x,y)\n",
    "trainloader = DataLoader(trainset, batch_size=64, shuffle=False )"
   ]
  },
  {
   "cell_type": "code",
   "execution_count": 66,
   "metadata": {},
   "outputs": [],
   "source": [
    "from torch import nn\n",
    "from torch.nn import functional as F\n",
    "\n",
    "\n",
    "class Net(nn.Module):\n",
    "    def __init__(self,input_shape):\n",
    "        super(Net, self).__init__()\n",
    "        self.fc1 =nn.Linear(input_shape, 32)\n",
    "        self.fc2 =nn.Linear(32, 64)\n",
    "        self.fc3 =nn.Linear(64, 1)\n",
    "    \n",
    "    def forward(self, x):\n",
    "        x = torch.relu(self.fc1(x))\n",
    "        x = torch.relu(self.fc2(x))\n",
    "        x = torch.sigmoid(self.fc3(x))\n",
    "        return x\n",
    "\n",
    "\n"
   ]
  },
  {
   "cell_type": "code",
   "execution_count": 67,
   "metadata": {},
   "outputs": [],
   "source": [
    "learning_rate = 0.01\n",
    "epochs = 1000\n",
    "model = Net(x.shape[1])\n",
    "optimizer = torch.optim.SGD(model.parameters(), lr = learning_rate)\n",
    "loss_fn  = nn.BCELoss()\n"
   ]
  },
  {
   "cell_type": "code",
   "execution_count": 68,
   "metadata": {},
   "outputs": [
    {
     "name": "stdout",
     "output_type": "stream",
     "text": [
      "epoch0\tloss :0.6741474866867065\t accuracy : 0.6239015817223199\n",
      "epoch50\tloss :0.1982411891222\t accuracy : 0.945518453427065\n",
      "epoch100\tloss :0.08939595520496368\t accuracy : 0.9736379613356766\n",
      "epoch150\tloss :0.06931105256080627\t accuracy : 0.984182776801406\n",
      "epoch200\tloss :0.060168974101543427\t accuracy : 0.9859402460456942\n",
      "epoch250\tloss :0.05394225940108299\t accuracy : 0.9859402460456942\n",
      "epoch300\tloss :0.04960276186466217\t accuracy : 0.9859402460456942\n",
      "epoch350\tloss :0.04655057191848755\t accuracy : 0.9876977152899824\n",
      "epoch400\tloss :0.04393649473786354\t accuracy : 0.9894551845342706\n",
      "epoch450\tloss :0.04094856604933739\t accuracy : 0.9912126537785588\n",
      "epoch500\tloss :0.0375710129737854\t accuracy : 0.9929701230228472\n",
      "epoch550\tloss :0.034998487681150436\t accuracy : 0.9929701230228472\n",
      "epoch600\tloss :0.03277940675616264\t accuracy : 0.9929701230228472\n",
      "epoch650\tloss :0.030845636501908302\t accuracy : 0.9929701230228472\n",
      "epoch700\tloss :0.029028652235865593\t accuracy : 0.9929701230228472\n",
      "epoch750\tloss :0.02733311988413334\t accuracy : 0.9929701230228472\n",
      "epoch800\tloss :0.02572455443441868\t accuracy : 0.9929701230228472\n",
      "epoch850\tloss :0.024123555049300194\t accuracy : 0.9929701230228472\n",
      "epoch900\tloss :0.022388510406017303\t accuracy : 0.9929701230228472\n",
      "epoch950\tloss :0.020864397287368774\t accuracy : 0.9929701230228472\n"
     ]
    }
   ],
   "source": [
    "losses = []\n",
    "accuracy = []\n",
    "\n",
    "for i in range(epochs):\n",
    "    for j,(x_train, y_train) in enumerate(trainloader):\n",
    "        out = model(x_train)\n",
    "        loss = loss_fn(out, y_train.reshape(-1,1))\n",
    "\n",
    "        predicted = model(torch.tensor(x, dtype=torch.float32))\n",
    "        acc = (predicted.reshape(-1).detach().numpy().round() == y).mean()\n",
    "        optimizer.zero_grad()\n",
    "        loss.backward()\n",
    "        optimizer.step()\n",
    "\n",
    "    if i%50 == 0:\n",
    "        losses.append(loss.item())\n",
    "        accuracy.append(acc)\n",
    "        print('epoch{}\\tloss :{}\\t accuracy : {}'.format(i,loss, acc))"
   ]
  },
  {
   "cell_type": "code",
   "execution_count": 69,
   "metadata": {},
   "outputs": [
    {
     "data": {
      "text/plain": [
       "Text(0, 0.5, 'loss')"
      ]
     },
     "execution_count": 69,
     "metadata": {},
     "output_type": "execute_result"
    },
    {
     "data": {
      "image/png": "[encoded data removed]",
      "text/plain": [
       "<Figure size 432x288 with 1 Axes>"
      ]
     },
     "metadata": {
      "needs_background": "light"
     },
     "output_type": "display_data"
    }
   ],
   "source": [
    "plt.plot(losses)\n",
    "plt.title('Loss vs Epochs')\n",
    "plt.xlabel('Epochs')\n",
    "plt.ylabel('loss')"
   ]
  },
  {
   "cell_type": "code",
   "execution_count": 70,
   "metadata": {},
   "outputs": [
    {
     "data": {
      "text/plain": [
       "Text(0, 0.5, 'loss')"
      ]
     },
     "execution_count": 70,
     "metadata": {},
     "output_type": "execute_result"
    },
    {
     "data": {
      "image/png": "[encoded data removed]",
      "text/plain": [
       "<Figure size 432x288 with 1 Axes>"
      ]
     },
     "metadata": {
      "needs_background": "light"
     },
     "output_type": "display_data"
    }
   ],
   "source": [
    "plt.plot(accuracy)\n",
    "plt.title('Accuracy vs Epochs')\n",
    "plt.xlabel('Accuracy')\n",
    "plt.ylabel('loss')"
   ]
  },
  {
   "cell_type": "code",
   "execution_count": null,
   "metadata": {},
   "outputs": [],
   "source": []
  }
 ],
 "metadata": {
  "kernelspec": {
   "display_name": "Python 3.8.13 ('pytorch_x86')",
   "language": "python",
   "name": "python3"
  },
  "language_info": {
   "codemirror_mode": {
    "name": "ipython",
    "version": 3
   },
   "file_extension": ".py",
   "mimetype": "text/x-python",
   "name": "python",
   "nbconvert_exporter": "python",
   "pygments_lexer": "ipython3",
   "version": "3.8.13"
  },
  "orig_nbformat": 4,
  "vscode": {
   "interpreter": {
    "hash": "e0725846df5162b39828c4ff419b6f42d14dd6ce93ef944e2bdd9cad40693965"
   }
  }
 },
 "nbformat": 4,
 "nbformat_minor": 2
}
