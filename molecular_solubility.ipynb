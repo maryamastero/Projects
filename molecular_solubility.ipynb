{
 "cells": [
  {
   "cell_type": "code",
   "execution_count": 1,
   "metadata": {},
   "outputs": [],
   "source": [
    "import numpy as np\n",
    "import random\n",
    "import matplotlib.pyplot as plt\n",
    "from pysmiles import read_smiles\n",
    "import pandas as pd \n",
    "import logging\n",
    "from tqdm import tqdm\n",
    "import torch\n",
    "from torch.nn import Sequential as seq , Linear, ReLU, CrossEntropyLoss\n",
    "import torch.nn.functional as F\n",
    "from torch_geometric.nn import MessagePassing, GCNConv\n",
    "from torch_geometric.utils import remove_self_loops, add_self_loops, degree\n",
    "from torch_geometric.data import Data\n",
    "\n",
    "logging.getLogger('pysmiles').setLevel(logging.CRITICAL)"
   ]
  },
  {
   "cell_type": "code",
   "execution_count": 2,
   "metadata": {},
   "outputs": [
    {
     "data": {
      "text/html": [
       "<div>\n",
       "<style scoped>\n",
       "    .dataframe tbody tr th:only-of-type {\n",
       "        vertical-align: middle;\n",
       "    }\n",
       "\n",
       "    .dataframe tbody tr th {\n",
       "        vertical-align: top;\n",
       "    }\n",
       "\n",
       "    .dataframe thead th {\n",
       "        text-align: right;\n",
       "    }\n",
       "</style>\n",
       "<table border=\"1\" class=\"dataframe\">\n",
       "  <thead>\n",
       "    <tr style=\"text-align: right;\">\n",
       "      <th></th>\n",
       "      <th>ID</th>\n",
       "      <th>Name</th>\n",
       "      <th>InChI</th>\n",
       "      <th>InChIKey</th>\n",
       "      <th>SMILES</th>\n",
       "      <th>Solubility</th>\n",
       "      <th>SD</th>\n",
       "      <th>Ocurrences</th>\n",
       "      <th>Group</th>\n",
       "      <th>MolWt</th>\n",
       "      <th>...</th>\n",
       "      <th>NumRotatableBonds</th>\n",
       "      <th>NumValenceElectrons</th>\n",
       "      <th>NumAromaticRings</th>\n",
       "      <th>NumSaturatedRings</th>\n",
       "      <th>NumAliphaticRings</th>\n",
       "      <th>RingCount</th>\n",
       "      <th>TPSA</th>\n",
       "      <th>LabuteASA</th>\n",
       "      <th>BalabanJ</th>\n",
       "      <th>BertzCT</th>\n",
       "    </tr>\n",
       "  </thead>\n",
       "  <tbody>\n",
       "    <tr>\n",
       "      <th>0</th>\n",
       "      <td>A-3</td>\n",
       "      <td>N,N,N-trimethyloctadecan-1-aminium bromide</td>\n",
       "      <td>InChI=1S/C21H46N.BrH/c1-5-6-7-8-9-10-11-12-13-...</td>\n",
       "      <td>SZEMGTQCPRNXEG-UHFFFAOYSA-M</td>\n",
       "      <td>[Br-].CCCCCCCCCCCCCCCCCC[N+](C)(C)C</td>\n",
       "      <td>-3.616127</td>\n",
       "      <td>0.0</td>\n",
       "      <td>1</td>\n",
       "      <td>G1</td>\n",
       "      <td>392.510</td>\n",
       "      <td>...</td>\n",
       "      <td>17.0</td>\n",
       "      <td>142.0</td>\n",
       "      <td>0.0</td>\n",
       "      <td>0.0</td>\n",
       "      <td>0.0</td>\n",
       "      <td>0.0</td>\n",
       "      <td>0.00</td>\n",
       "      <td>158.520601</td>\n",
       "      <td>0.000000e+00</td>\n",
       "      <td>210.377334</td>\n",
       "    </tr>\n",
       "    <tr>\n",
       "      <th>1</th>\n",
       "      <td>A-4</td>\n",
       "      <td>Benzo[cd]indol-2(1H)-one</td>\n",
       "      <td>InChI=1S/C11H7NO/c13-11-8-5-1-3-7-4-2-6-9(12-1...</td>\n",
       "      <td>GPYLCFQEKPUWLD-UHFFFAOYSA-N</td>\n",
       "      <td>O=C1Nc2cccc3cccc1c23</td>\n",
       "      <td>-3.254767</td>\n",
       "      <td>0.0</td>\n",
       "      <td>1</td>\n",
       "      <td>G1</td>\n",
       "      <td>169.183</td>\n",
       "      <td>...</td>\n",
       "      <td>0.0</td>\n",
       "      <td>62.0</td>\n",
       "      <td>2.0</td>\n",
       "      <td>0.0</td>\n",
       "      <td>1.0</td>\n",
       "      <td>3.0</td>\n",
       "      <td>29.10</td>\n",
       "      <td>75.183563</td>\n",
       "      <td>2.582996e+00</td>\n",
       "      <td>511.229248</td>\n",
       "    </tr>\n",
       "    <tr>\n",
       "      <th>2</th>\n",
       "      <td>A-5</td>\n",
       "      <td>4-chlorobenzaldehyde</td>\n",
       "      <td>InChI=1S/C7H5ClO/c8-7-3-1-6(5-9)2-4-7/h1-5H</td>\n",
       "      <td>AVPYQKSLYISFPO-UHFFFAOYSA-N</td>\n",
       "      <td>Clc1ccc(C=O)cc1</td>\n",
       "      <td>-2.177078</td>\n",
       "      <td>0.0</td>\n",
       "      <td>1</td>\n",
       "      <td>G1</td>\n",
       "      <td>140.569</td>\n",
       "      <td>...</td>\n",
       "      <td>1.0</td>\n",
       "      <td>46.0</td>\n",
       "      <td>1.0</td>\n",
       "      <td>0.0</td>\n",
       "      <td>0.0</td>\n",
       "      <td>1.0</td>\n",
       "      <td>17.07</td>\n",
       "      <td>58.261134</td>\n",
       "      <td>3.009782e+00</td>\n",
       "      <td>202.661065</td>\n",
       "    </tr>\n",
       "    <tr>\n",
       "      <th>3</th>\n",
       "      <td>A-8</td>\n",
       "      <td>zinc bis[2-hydroxy-3,5-bis(1-phenylethyl)benzo...</td>\n",
       "      <td>InChI=1S/2C23H22O3.Zn/c2*1-15(17-9-5-3-6-10-17...</td>\n",
       "      <td>XTUPUYCJWKHGSW-UHFFFAOYSA-L</td>\n",
       "      <td>[Zn++].CC(c1ccccc1)c2cc(C(C)c3ccccc3)c(O)c(c2)...</td>\n",
       "      <td>-3.924409</td>\n",
       "      <td>0.0</td>\n",
       "      <td>1</td>\n",
       "      <td>G1</td>\n",
       "      <td>756.226</td>\n",
       "      <td>...</td>\n",
       "      <td>10.0</td>\n",
       "      <td>264.0</td>\n",
       "      <td>6.0</td>\n",
       "      <td>0.0</td>\n",
       "      <td>0.0</td>\n",
       "      <td>6.0</td>\n",
       "      <td>120.72</td>\n",
       "      <td>323.755434</td>\n",
       "      <td>2.322963e-07</td>\n",
       "      <td>1964.648666</td>\n",
       "    </tr>\n",
       "    <tr>\n",
       "      <th>4</th>\n",
       "      <td>A-9</td>\n",
       "      <td>4-({4-[bis(oxiran-2-ylmethyl)amino]phenyl}meth...</td>\n",
       "      <td>InChI=1S/C25H30N2O4/c1-5-20(26(10-22-14-28-22)...</td>\n",
       "      <td>FAUAZXVRLVIARB-UHFFFAOYSA-N</td>\n",
       "      <td>C1OC1CN(CC2CO2)c3ccc(Cc4ccc(cc4)N(CC5CO5)CC6CO...</td>\n",
       "      <td>-4.662065</td>\n",
       "      <td>0.0</td>\n",
       "      <td>1</td>\n",
       "      <td>G1</td>\n",
       "      <td>422.525</td>\n",
       "      <td>...</td>\n",
       "      <td>12.0</td>\n",
       "      <td>164.0</td>\n",
       "      <td>2.0</td>\n",
       "      <td>4.0</td>\n",
       "      <td>4.0</td>\n",
       "      <td>6.0</td>\n",
       "      <td>56.60</td>\n",
       "      <td>183.183268</td>\n",
       "      <td>1.084427e+00</td>\n",
       "      <td>769.899934</td>\n",
       "    </tr>\n",
       "  </tbody>\n",
       "</table>\n",
       "<p>5 rows × 26 columns</p>\n",
       "</div>"
      ],
      "text/plain": [
       "    ID                                               Name  \\\n",
       "0  A-3         N,N,N-trimethyloctadecan-1-aminium bromide   \n",
       "1  A-4                           Benzo[cd]indol-2(1H)-one   \n",
       "2  A-5                               4-chlorobenzaldehyde   \n",
       "3  A-8  zinc bis[2-hydroxy-3,5-bis(1-phenylethyl)benzo...   \n",
       "4  A-9  4-({4-[bis(oxiran-2-ylmethyl)amino]phenyl}meth...   \n",
       "\n",
       "                                               InChI  \\\n",
       "0  InChI=1S/C21H46N.BrH/c1-5-6-7-8-9-10-11-12-13-...   \n",
       "1  InChI=1S/C11H7NO/c13-11-8-5-1-3-7-4-2-6-9(12-1...   \n",
       "2        InChI=1S/C7H5ClO/c8-7-3-1-6(5-9)2-4-7/h1-5H   \n",
       "3  InChI=1S/2C23H22O3.Zn/c2*1-15(17-9-5-3-6-10-17...   \n",
       "4  InChI=1S/C25H30N2O4/c1-5-20(26(10-22-14-28-22)...   \n",
       "\n",
       "                      InChIKey  \\\n",
       "0  SZEMGTQCPRNXEG-UHFFFAOYSA-M   \n",
       "1  GPYLCFQEKPUWLD-UHFFFAOYSA-N   \n",
       "2  AVPYQKSLYISFPO-UHFFFAOYSA-N   \n",
       "3  XTUPUYCJWKHGSW-UHFFFAOYSA-L   \n",
       "4  FAUAZXVRLVIARB-UHFFFAOYSA-N   \n",
       "\n",
       "                                              SMILES  Solubility   SD  \\\n",
       "0                [Br-].CCCCCCCCCCCCCCCCCC[N+](C)(C)C   -3.616127  0.0   \n",
       "1                               O=C1Nc2cccc3cccc1c23   -3.254767  0.0   \n",
       "2                                    Clc1ccc(C=O)cc1   -2.177078  0.0   \n",
       "3  [Zn++].CC(c1ccccc1)c2cc(C(C)c3ccccc3)c(O)c(c2)...   -3.924409  0.0   \n",
       "4  C1OC1CN(CC2CO2)c3ccc(Cc4ccc(cc4)N(CC5CO5)CC6CO...   -4.662065  0.0   \n",
       "\n",
       "   Ocurrences Group    MolWt  ...  NumRotatableBonds  NumValenceElectrons  \\\n",
       "0           1    G1  392.510  ...               17.0                142.0   \n",
       "1           1    G1  169.183  ...                0.0                 62.0   \n",
       "2           1    G1  140.569  ...                1.0                 46.0   \n",
       "3           1    G1  756.226  ...               10.0                264.0   \n",
       "4           1    G1  422.525  ...               12.0                164.0   \n",
       "\n",
       "   NumAromaticRings  NumSaturatedRings  NumAliphaticRings  RingCount    TPSA  \\\n",
       "0               0.0                0.0                0.0        0.0    0.00   \n",
       "1               2.0                0.0                1.0        3.0   29.10   \n",
       "2               1.0                0.0                0.0        1.0   17.07   \n",
       "3               6.0                0.0                0.0        6.0  120.72   \n",
       "4               2.0                4.0                4.0        6.0   56.60   \n",
       "\n",
       "    LabuteASA      BalabanJ      BertzCT  \n",
       "0  158.520601  0.000000e+00   210.377334  \n",
       "1   75.183563  2.582996e+00   511.229248  \n",
       "2   58.261134  3.009782e+00   202.661065  \n",
       "3  323.755434  2.322963e-07  1964.648666  \n",
       "4  183.183268  1.084427e+00   769.899934  \n",
       "\n",
       "[5 rows x 26 columns]"
      ]
     },
     "execution_count": 2,
     "metadata": {},
     "output_type": "execute_result"
    }
   ],
   "source": [
    "df = pd.read_csv('curated-solubility-dataset.csv')\n",
    "df.head()"
   ]
  },
  {
   "cell_type": "code",
   "execution_count": 3,
   "metadata": {},
   "outputs": [],
   "source": [
    "X_smiles = list(df.SMILES)\n",
    "Y = np.asarray(df.Solubility)\n",
    "elements = ['K', 'Y', 'V', 'Sm', 'Dy', 'In', 'Lu', 'Hg', 'Co', 'Mg',    #list of all elements in the dataset\n",
    "            'Cu', 'Rh', 'Hf', 'O', 'As', 'Ge', 'Au', 'Mo', 'Br', 'Ce', \n",
    "            'Zr', 'Ag', 'Ba', 'N', 'Cr', 'Sr', 'Fe', 'Gd', 'I', 'Al', \n",
    "            'B', 'Se', 'Pr', 'Te', 'Cd', 'Pd', 'Si', 'Zn', 'Pb', 'Sn', \n",
    "            'Cl', 'Mn', 'Cs', 'Na', 'S', 'Ti', 'Ni', 'Ru', 'Ca', 'Nd', \n",
    "            'W', 'H', 'Li', 'Sb', 'Bi', 'La', 'Pt', 'Nb', 'P', 'F', 'C']"
   ]
  },
  {
   "cell_type": "code",
   "execution_count": 4,
   "metadata": {},
   "outputs": [],
   "source": [
    "def element_to_onehot(element):\n",
    "    '''\n",
    "    input : a dictionay  of elements where keys are int and values are elementse.g. {0:B}\n",
    "    out : one hot vector\n",
    "    '''\n",
    "    out = []\n",
    "    for i in range(0, len(element)):\n",
    "        v = np.zeros(len(elements))\n",
    "        v[elements.index(element[i])]=1.0\n",
    "        out.append(v)\n",
    "    return np.asarray(out)"
   ]
  },
  {
   "cell_type": "code",
   "execution_count": 5,
   "metadata": {},
   "outputs": [],
   "source": [
    "def val_to_class(val):\n",
    "    '''conver value to one hot class''' \n",
    "    if val < -03.65: # insoluble\n",
    "        return [1,0,0]\n",
    "    elif val < -1.69:# slightly soluble\n",
    "        return[0,1,0]\n",
    "    else: #soluble\n",
    "        return[0,0,1]"
   ]
  },
  {
   "cell_type": "code",
   "execution_count": 6,
   "metadata": {},
   "outputs": [
    {
     "name": "stderr",
     "output_type": "stream",
     "text": [
      "100%|██████████| 9982/9982 [00:03<00:00, 2641.35it/s]\n"
     ]
    }
   ],
   "source": [
    "#create graph from smiles\n",
    "\n",
    "nodes = []\n",
    "edge_index = []\n",
    "\n",
    "for smiles in tqdm(X_smiles):\n",
    "    try:\n",
    "        G = read_smiles(smiles, explicit_hydrogen= True)\n",
    "        feature = element_to_onehot(np.asarray(G.nodes(data= 'element'))[:,1])\n",
    "        edges = np.asarray(G.edges)\n",
    "        index = np.asarray([edges[:,0], edges[:,1]])\n",
    "        nodes.append(feature)\n",
    "        edge_index.append(index)\n",
    "    except:\n",
    "        pass\n"
   ]
  },
  {
   "cell_type": "code",
   "execution_count": 7,
   "metadata": {},
   "outputs": [
    {
     "name": "stderr",
     "output_type": "stream",
     "text": [
      "100%|██████████| 9947/9947 [00:00<00:00, 54339.73it/s]\n"
     ]
    }
   ],
   "source": [
    "data = list()\n",
    "#process graphs into torch_geometric Data objects\n",
    "for i in tqdm(range(0,len(nodes))):\n",
    "    x = torch.tensor(nodes[i], dtype= torch.float)\n",
    "    edges = torch.tensor(edge_index[i], dtype = torch.long)\n",
    "    y = torch.tensor(val_to_class(Y[i]), dtype = torch.float)\n",
    "    data.append(Data(x=x,edge_index=edges, y = y))\n",
    "random.shuffle(data)\n",
    "train = data[:int(len(data)*0.8)]\n",
    "test = data[int(len(data)*0.8):]\n",
    "train = data"
   ]
  },
  {
   "cell_type": "code",
   "execution_count": 8,
   "metadata": {},
   "outputs": [],
   "source": [
    "class Net(torch.nn.Module):\n",
    "    def __init__(self):\n",
    "        super(Net,self).__init__()\n",
    "        self.conv1 = GCNConv(61, 32)\n",
    "        self.conv2 = GCNConv(32, 32)\n",
    "        self.conv3 = GCNConv(32, 32)\n",
    "        self.conv4 = GCNConv(32, 32)\n",
    "        self.lin1 = Linear(32, 16)\n",
    "        self.lin2 = Linear(16, 3)\n",
    "    \n",
    "    def forward(self, data):\n",
    "        x, edge_index = data.x, data.edge_index\n",
    "        x = self.conv1(x, edge_index)\n",
    "        x = F.relu(x)\n",
    "        x = F.dropout(x, p=0.25, training=self.training)\n",
    "        \n",
    "        x = self.conv2(x, edge_index)\n",
    "        x = F.relu(x)\n",
    "        x = F.dropout(x, p=0.25, training=self.training)\n",
    "        \n",
    "        x = self.conv3(x, edge_index)\n",
    "        x = F.relu(x)\n",
    "        x = F.dropout(x, p=0.25, training=self.training)\n",
    "        \n",
    "        x = self.conv4(x, edge_index)\n",
    "        x = F.relu(x)\n",
    "        \n",
    "        x = torch.sum(x, dim=0)\n",
    "        x = self.lin1(x)\n",
    "        x = F.relu(x)\n",
    "        \n",
    "        x = self.lin2(x)\n",
    "        return x\n",
    "        \n"
   ]
  },
  {
   "cell_type": "code",
   "execution_count": 9,
   "metadata": {},
   "outputs": [],
   "source": [
    "device = torch.device('cuda' if torch.cuda.is_available() else 'cpu')\n",
    "\n",
    "model = Net().to(device)\n",
    "optimizer = torch.optim.Adam(model.parameters(), lr = 0.001, weight_decay=1e-4)\n",
    "CSE = CrossEntropyLoss()"
   ]
  },
  {
   "cell_type": "code",
   "execution_count": 10,
   "metadata": {},
   "outputs": [
    {
     "name": "stderr",
     "output_type": "stream",
     "text": [
      "100%|██████████| 9947/9947 [00:08<00:00, 1117.98it/s]\n"
     ]
    },
    {
     "name": "stdout",
     "output_type": "stream",
     "text": [
      "Epoch: 000, Average loss: 1.08007, Accuracy: 0.38816\n"
     ]
    },
    {
     "name": "stderr",
     "output_type": "stream",
     "text": [
      "100%|██████████| 9947/9947 [00:08<00:00, 1117.19it/s]"
     ]
    },
    {
     "name": "stdout",
     "output_type": "stream",
     "text": [
      "Epoch: 001, Average loss: 1.06579, Accuracy: 0.4148\n"
     ]
    },
    {
     "name": "stderr",
     "output_type": "stream",
     "text": [
      "\n"
     ]
    }
   ],
   "source": [
    "model.train()\n",
    "for epoch in range(2):\n",
    "    sum_loss = 0\n",
    "    num_correct = 0\n",
    "    random.shuffle(train)\n",
    "    for d in tqdm(train):\n",
    "        data = d.to(device)\n",
    "        optimizer.zero_grad()\n",
    "        out = model(data)\n",
    "        if torch.argmax(out) == torch.argmax(data.y):\n",
    "            num_correct += 1\n",
    "        loss = CSE(torch.reshape(out,[1,3]), torch.reshape(torch.argmax(data.y), [1]))\n",
    "        sum_loss += float(loss)\n",
    "        loss.backward()\n",
    "        optimizer.step()\n",
    "    print('Epoch: {:03}, Average loss: {:.5f}, Accuracy: {:.5}'.format(epoch,sum_loss/len(train),num_correct/len(train)))\n"
   ]
  },
  {
   "cell_type": "code",
   "execution_count": 11,
   "metadata": {},
   "outputs": [
    {
     "name": "stderr",
     "output_type": "stream",
     "text": [
      "100%|██████████| 1990/1990 [00:00<00:00, 2235.42it/s]\n"
     ]
    },
    {
     "name": "stdout",
     "output_type": "stream",
     "text": [
      "Test accuracy: 0.40703517587939697\n"
     ]
    },
    {
     "data": {
      "text/plain": [
       "(array([877., 130., 983.]),\n",
       " array([0.        , 0.66666667, 1.33333333, 2.        ]),\n",
       " <BarContainer object of 3 artists>)"
      ]
     },
     "execution_count": 11,
     "metadata": {},
     "output_type": "execute_result"
    },
    {
     "data": {
      "image/png": "[encoded data removed]",
      "text/plain": [
       "<Figure size 432x288 with 1 Axes>"
      ]
     },
     "metadata": {
      "needs_background": "light"
     },
     "output_type": "display_data"
    }
   ],
   "source": [
    "#test the model\n",
    "\n",
    "num_correct = 0\n",
    "model.eval()\n",
    "predictions = list()\n",
    "for t in tqdm(test):\n",
    "    d = t.to(device)\n",
    "    out = model(d)\n",
    "    if torch.argmax(out) == torch.argmax(d.y): \n",
    "            num_correct += 1\n",
    "    predictions.append(torch.argmax(out).item())\n",
    "    \n",
    "print(\"Test accuracy: \" + str(num_correct/len(test)))\n",
    "plt.hist(predictions, bins = 3)"
   ]
  },
  {
   "cell_type": "code",
   "execution_count": 12,
   "metadata": {},
   "outputs": [],
   "source": [
    "def evaluate_smiles(smiles_string):\n",
    "    classes = ['insoluble', 'slightly soluble', 'soluble']\n",
    "    G = read_smiles(smiles_string, explicit_hydrogen=True)\n",
    "    feature = element_to_onehot(np.asarray(G.nodes(data= 'element'))[:,1])\n",
    "    #print(np.asarray(G.nodes(data= 'elements'))[:,1])\n",
    "    edges = np.asarray(G.edges) \n",
    "    index = np.asarray([edges[:,0], edges[:,1]]) \n",
    "    d = Data(x=torch.tensor(feature, dtype=torch.float),edge_index=torch.tensor(index, dtype=torch.long)) \n",
    "    data = d.to(device)\n",
    "    model.eval() \n",
    "    print(classes[torch.argmax(torch.softmax(model(data),dim= 0)).item()])"
   ]
  },
  {
   "cell_type": "code",
   "execution_count": 17,
   "metadata": {},
   "outputs": [
    {
     "name": "stdout",
     "output_type": "stream",
     "text": [
      "soluble\n"
     ]
    }
   ],
   "source": [
    "#c vitamine\n",
    "evaluate_smiles('C(C(C1C(=C(C(=O)O1)O)O)O)O')"
   ]
  },
  {
   "cell_type": "code",
   "execution_count": 18,
   "metadata": {},
   "outputs": [
    {
     "name": "stdout",
     "output_type": "stream",
     "text": [
      "insoluble\n"
     ]
    }
   ],
   "source": [
    "#olive oil\n",
    "evaluate_smiles('CCCCCCCCCCCCCCCCCC(=O)OCC.CCCCCCCCCCCCCCCC(=O)OCC.CCCCCCCCC=CCCCCCCCC(=O)OCC.CCCCCC=CCC=CCCCCCCCC(=O)OCC.CCC=CCC=CCC=CCCCCCCCC(=O)OCC')"
   ]
  },
  {
   "cell_type": "code",
   "execution_count": null,
   "metadata": {},
   "outputs": [],
   "source": []
  }
 ],
 "metadata": {
  "kernelspec": {
   "display_name": "Python 3.8.13 ('pytorch_x86')",
   "language": "python",
   "name": "python3"
  },
  "language_info": {
   "codemirror_mode": {
    "name": "ipython",
    "version": 3
   },
   "file_extension": ".py",
   "mimetype": "text/x-python",
   "name": "python",
   "nbconvert_exporter": "python",
   "pygments_lexer": "ipython3",
   "version": "3.8.13"
  },
  "orig_nbformat": 4,
  "vscode": {
   "interpreter": {
    "hash": "e0725846df5162b39828c4ff419b6f42d14dd6ce93ef944e2bdd9cad40693965"
   }
  }
 },
 "nbformat": 4,
 "nbformat_minor": 2
}
